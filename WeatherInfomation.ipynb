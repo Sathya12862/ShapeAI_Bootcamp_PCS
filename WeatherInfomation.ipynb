{
  "nbformat": 4,
  "nbformat_minor": 0,
  "metadata": {
    "colab": {
      "name": "WeatherInfomation.ipynb",
      "provenance": [],
      "collapsed_sections": []
    },
    "kernelspec": {
      "name": "python3",
      "display_name": "Python 3"
    },
    "language_info": {
      "name": "python"
    }
  },
  "cells": [
    {
      "cell_type": "code",
      "metadata": {
        "colab": {
          "base_uri": "https://localhost:8080/"
        },
        "id": "DVx6veLzUb0u",
        "outputId": "60178468-174c-4fd5-c302-b09a6df30b62"
      },
      "source": [
        "import requests\n",
        "\n",
        "from datetime import datetime\n",
        "\n",
        "r = requests.get('https://colab.research.google.com/drive/1vTaFmu3Kwk637aOZUKbwR782pgODpuqb#scrollTo=DVx6veLzUb0u&line=6&uniqifier=1')\n",
        "\n",
        "with open(\"weatherinfo.txt\",\"w\") as f:\n",
        "  f.write(r.text)\n",
        "\n",
        "api_key = 'c2eb62857f0eb70b36073974a9982afa'\n",
        "location = input(\"Enter the city name : \")\n",
        "\n",
        "complete_api_link = \"https://api.openweathermap.org/data/2.5/weather?q=\" + location + \"&appid=\" +api_key\n",
        "api_link = requests.get(complete_api_link)\n",
        "api_data = api_link.json()\n",
        "\n",
        "\n",
        "temp_city = ((api_data['main']['temp']) - 273.5)\n",
        "weather_desc = api_data['weather'][0]['description']\n",
        "hmdt = api_data['main']['humidity']\n",
        "wind_spd = api_data['wind']['speed']\n",
        "date_time = datetime.now().strftime(\"%d %b %Y | %I:%M:%S %p\")\n",
        "\n",
        "\n",
        "print(\"--------------------------------------------------------------\")\n",
        "print(\"Weather stats for - {}  || {}\".format(location.upper(),date_time))\n",
        "print(\"--------------------------------------------------------------\")\n",
        "\n",
        "print(\"Current temparature is : {:.2f}deg C\".format(temp_city))\n",
        "print(\"Current weather desc : \",weather_desc)\n",
        "print(\"Current Hunmidity : \",hmdt, '%')\n",
        "print(\"Current wind speed : \",wind_spd,'kmph')"
      ],
      "execution_count": 33,
      "outputs": [
        {
          "output_type": "stream",
          "text": [
            "Enter the city name : theni\n",
            "--------------------------------------------------------------\n",
            "Weather stats for - THENI  || 23 Jun 2021 | 09:10:47 AM\n",
            "--------------------------------------------------------------\n",
            "Current temparature is : 35.62deg C\n",
            "Current weather desc :  overcast clouds\n",
            "Current Hunmidity :  38 %\n",
            "Current wind speed :  4.85 kmph\n"
          ],
          "name": "stdout"
        }
      ]
    }
  ]
}